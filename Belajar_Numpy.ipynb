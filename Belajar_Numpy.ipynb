{
  "nbformat": 4,
  "nbformat_minor": 0,
  "metadata": {
    "colab": {
      "provenance": [],
      "collapsed_sections": [
        "j-PPlN4b7rOa",
        "SouoB-oT70nz",
        "BxQkAvCW8VY_",
        "dW8UW0JRCg0W",
        "RXzB2CjSCl5S"
      ]
    },
    "kernelspec": {
      "name": "python3",
      "display_name": "Python 3"
    },
    "language_info": {
      "name": "python"
    }
  },
  "cells": [
    {
      "cell_type": "markdown",
      "source": [
        "##Cara Install"
      ],
      "metadata": {
        "id": "j-PPlN4b7rOa"
      }
    },
    {
      "cell_type": "code",
      "execution_count": null,
      "metadata": {
        "colab": {
          "base_uri": "https://localhost:8080/"
        },
        "id": "i_RtqGeJ7kb-",
        "outputId": "99cf6146-322d-4acc-9adc-1e889f557317"
      },
      "outputs": [
        {
          "output_type": "stream",
          "name": "stdout",
          "text": [
            "Looking in indexes: https://pypi.org/simple, https://us-python.pkg.dev/colab-wheels/public/simple/\n",
            "Requirement already satisfied: numpy in /usr/local/lib/python3.7/dist-packages (1.21.6)\n"
          ]
        }
      ],
      "source": [
        "pip install numpy"
      ]
    },
    {
      "cell_type": "markdown",
      "source": [
        "##Import Numpy"
      ],
      "metadata": {
        "id": "SouoB-oT70nz"
      }
    },
    {
      "cell_type": "code",
      "source": [
        "import numpy as np\n",
        "print(np.__version__)"
      ],
      "metadata": {
        "colab": {
          "base_uri": "https://localhost:8080/"
        },
        "id": "OYJV4UMn8CAU",
        "outputId": "6a7950ea-5859-4d96-b4b4-852d3aa6f160"
      },
      "execution_count": null,
      "outputs": [
        {
          "output_type": "stream",
          "name": "stdout",
          "text": [
            "1.21.6\n"
          ]
        }
      ]
    },
    {
      "cell_type": "markdown",
      "source": [
        "##Create"
      ],
      "metadata": {
        "id": "BxQkAvCW8VY_"
      }
    },
    {
      "cell_type": "code",
      "source": [
        "# Satu Dimensi\n",
        "arr1 = np.array([1,2,3,4,5]) #satu dimensi\n",
        "\n",
        "arr2 = np.array([[1,2,3],\n",
        "                 [2,3,4],\n",
        "                 [5,6,7]]) #dua dimensi\n",
        "\n",
        "arr3 = np.array([[[1,2,3],\n",
        "                  [2,4,5],\n",
        "                  ],\n",
        "                 [[5,6,7],\n",
        "                  [8,9,10],\n",
        "                 ],\n",
        "                 [[5,6,7],\n",
        "                  [8,9,10],\n",
        "                  ]]) # tiga dimensi\n",
        "\n",
        "arr4 = np.random.rand(2,3,2) #generate otomatis\n",
        "\n",
        "# Mengetahui dimensi\n",
        "print(arr1.shape) # 1 baris 5 kolom\n",
        "print(arr2.shape) # 3 baris 3 kolom\n",
        "print(arr3.shape) # Banyaknya 3, dalamnya isi 2, dimensi 3 \n",
        "print(arr4.shape)\n",
        "arr4"
      ],
      "metadata": {
        "colab": {
          "base_uri": "https://localhost:8080/"
        },
        "id": "R8nBT2LN8aqb",
        "outputId": "92611982-21ba-4de9-d924-6dbf0d88b494"
      },
      "execution_count": null,
      "outputs": [
        {
          "output_type": "stream",
          "name": "stdout",
          "text": [
            "(5,)\n",
            "(3, 3)\n",
            "(3, 2, 3)\n",
            "(2, 3, 2)\n"
          ]
        },
        {
          "output_type": "execute_result",
          "data": {
            "text/plain": [
              "array([[[0.90881431, 0.62392621],\n",
              "        [0.23625834, 0.41249688],\n",
              "        [0.56609956, 0.85712616]],\n",
              "\n",
              "       [[0.5535594 , 0.76591192],\n",
              "        [0.46840586, 0.07459092],\n",
              "        [0.68573864, 0.23181333]]])"
            ]
          },
          "metadata": {},
          "execution_count": 48
        }
      ]
    },
    {
      "cell_type": "markdown",
      "source": [
        "##Read"
      ],
      "metadata": {
        "id": "SE1VEt9zCZ8M"
      }
    },
    {
      "cell_type": "code",
      "source": [
        "# Buat array dengan angka random\n",
        "data = np.random.rand(3,3)"
      ],
      "metadata": {
        "colab": {
          "base_uri": "https://localhost:8080/"
        },
        "id": "5WKa5lQWCeh0",
        "outputId": "6855bf4f-fce5-4815-bfef-b79df31e0c3f"
      },
      "execution_count": null,
      "outputs": [
        {
          "output_type": "execute_result",
          "data": {
            "text/plain": [
              "array([[0.24649069, 0.05936864, 0.10603698],\n",
              "       [0.37212265, 0.09437455, 0.67106503],\n",
              "       [0.0571417 , 0.2076138 , 0.29996769]])"
            ]
          },
          "metadata": {},
          "execution_count": 20
        }
      ]
    },
    {
      "cell_type": "code",
      "source": [
        "shape = data.shape\n",
        "size = data.size\n",
        "types = data.dtype\n",
        "\n",
        "# Print\n",
        "print(shape) # bentuk\n",
        "print(size) # total jumlah\n",
        "print(types) # tipe data"
      ],
      "metadata": {
        "colab": {
          "base_uri": "https://localhost:8080/"
        },
        "id": "SxEKV4E7DlWN",
        "outputId": "bcbf727a-3708-482a-bbb9-38d91f6f46d3"
      },
      "execution_count": null,
      "outputs": [
        {
          "output_type": "stream",
          "name": "stdout",
          "text": [
            "(3, 3)\n",
            "9\n",
            "float64\n"
          ]
        }
      ]
    },
    {
      "cell_type": "code",
      "source": [
        "# Slicing \n",
        "arr = data[0]             # ambil baris pertama\n",
        "slicer = data[0][0:2]     # baris pertama, kolom ditentukan\n",
        "reverse = data[-1]        # data terakhir\n",
        "single_value = data[0][0] # ambil single value\n",
        "\n",
        "\n",
        "# print(arr)\n",
        "# print(slicer)\n",
        "# print(reverse)\n",
        "# print(single_value)"
      ],
      "metadata": {
        "id": "rw_W4CD4EAXQ"
      },
      "execution_count": null,
      "outputs": []
    },
    {
      "cell_type": "code",
      "source": [
        "data"
      ],
      "metadata": {
        "colab": {
          "base_uri": "https://localhost:8080/"
        },
        "id": "sVZPrkYYFny8",
        "outputId": "787c4fe5-19c5-435f-92d4-6c06bb4274d5"
      },
      "execution_count": null,
      "outputs": [
        {
          "output_type": "execute_result",
          "data": {
            "text/plain": [
              "array([[0.24649069, 0.05936864, 0.10603698],\n",
              "       [0.37212265, 0.09437455, 0.67106503],\n",
              "       [0.0571417 , 0.2076138 , 0.29996769]])"
            ]
          },
          "metadata": {},
          "execution_count": 37
        }
      ]
    },
    {
      "cell_type": "markdown",
      "source": [
        "##Update"
      ],
      "metadata": {
        "id": "dW8UW0JRCg0W"
      }
    },
    {
      "cell_type": "code",
      "source": [
        "list1 = np.random.rand(10)\n",
        "list2 = np.random.rand(10)\n",
        "\n",
        "print(list1,'\\n')\n",
        "print(list2)"
      ],
      "metadata": {
        "colab": {
          "base_uri": "https://localhost:8080/"
        },
        "id": "SsSG2C5oCj31",
        "outputId": "14459c6f-3461-4b88-8f06-8b6e72571129"
      },
      "execution_count": null,
      "outputs": [
        {
          "output_type": "stream",
          "name": "stdout",
          "text": [
            "[0.69145716 0.71409086 0.89360305 0.18763831 0.34343267 0.75259561\n",
            " 0.77291263 0.10472801 0.07207362 0.76242962] \n",
            "\n",
            "[0.55144953 0.84124027 0.0218937  0.25022515 0.87875774 0.8363917\n",
            " 0.37439744 0.16931536 0.94021792 0.86694808]\n"
          ]
        }
      ]
    },
    {
      "cell_type": "code",
      "source": [
        "# Basic Math\n",
        "add = np.add(list1, list2)      # Pertambahan\n",
        "sub = np.subtract(list1,list2)  # Pengurangan\n",
        "div = np.divide(list1,list2)    # Pembagian\n",
        "mult = np.multiply(list1,list2) # Perkalian\n",
        "dot = np.dot(list1,list2)       # Dot produk\n",
        "\n",
        "add"
      ],
      "metadata": {
        "colab": {
          "base_uri": "https://localhost:8080/"
        },
        "id": "VSVqzzT_Gty0",
        "outputId": "6915cb08-cfea-4271-f364-5a8e34094e9a"
      },
      "execution_count": null,
      "outputs": [
        {
          "output_type": "execute_result",
          "data": {
            "text/plain": [
              "array([1.2429067 , 1.55533113, 0.91549675, 0.43786346, 1.22219041,\n",
              "       1.58898731, 1.14731007, 0.27404337, 1.01229154, 1.6293777 ])"
            ]
          },
          "metadata": {},
          "execution_count": 47
        }
      ]
    },
    {
      "cell_type": "code",
      "source": [
        "# Stat Functions\n",
        "sqrt = np.sqrt(25) # akar\n",
        "ab = np.abs(-2) # absolut   \n",
        "power = np.power(2,7) # pangkat\n",
        "log = np.log(25) # logaritma\n",
        "exp = np.exp([2,3]) # exponen\n",
        "mins = np.min(list1) # minimum\n",
        "maxs = np.max(list1) # maksimum\n",
        "\n",
        "mins"
      ],
      "metadata": {
        "colab": {
          "base_uri": "https://localhost:8080/"
        },
        "id": "toDqOySwHIHQ",
        "outputId": "1407dbd8-22ba-44f8-93c6-aa61dbe5650e"
      },
      "execution_count": null,
      "outputs": [
        {
          "output_type": "execute_result",
          "data": {
            "text/plain": [
              "0.07207362048097732"
            ]
          },
          "metadata": {},
          "execution_count": 49
        }
      ]
    },
    {
      "cell_type": "code",
      "source": [
        "data"
      ],
      "metadata": {
        "colab": {
          "base_uri": "https://localhost:8080/"
        },
        "id": "9_mWvUnFK8IT",
        "outputId": "5fba0543-7637-4575-ce23-a0617752e0eb"
      },
      "execution_count": null,
      "outputs": [
        {
          "output_type": "execute_result",
          "data": {
            "text/plain": [
              "array([[0.24649069, 0.05936864, 0.10603698],\n",
              "       [0.37212265, 0.09437455, 0.67106503],\n",
              "       [0.0571417 , 0.2076138 , 0.29996769]])"
            ]
          },
          "metadata": {},
          "execution_count": 50
        }
      ]
    },
    {
      "cell_type": "code",
      "source": [
        "# update value\n",
        "data[0][0] = 10"
      ],
      "metadata": {
        "id": "sFabJn23LBZg"
      },
      "execution_count": null,
      "outputs": []
    },
    {
      "cell_type": "code",
      "source": [
        "data"
      ],
      "metadata": {
        "colab": {
          "base_uri": "https://localhost:8080/"
        },
        "id": "0KZwgj5uLI1g",
        "outputId": "1b976d79-5d9d-441d-a275-45ec2fcec13f"
      },
      "execution_count": null,
      "outputs": [
        {
          "output_type": "execute_result",
          "data": {
            "text/plain": [
              "array([[10.        ,  0.05936864,  0.10603698],\n",
              "       [ 0.37212265,  0.09437455,  0.67106503],\n",
              "       [ 0.0571417 ,  0.2076138 ,  0.29996769]])"
            ]
          },
          "metadata": {},
          "execution_count": 52
        }
      ]
    },
    {
      "cell_type": "code",
      "source": [
        "# Mengurutkan data\n",
        "data.sort()\n",
        "data"
      ],
      "metadata": {
        "colab": {
          "base_uri": "https://localhost:8080/"
        },
        "id": "fgJOwvVDLMYj",
        "outputId": "d3c75601-8c71-4efd-d8f0-73beabfadc4f"
      },
      "execution_count": null,
      "outputs": [
        {
          "output_type": "execute_result",
          "data": {
            "text/plain": [
              "array([[ 0.05936864,  0.10603698, 10.        ],\n",
              "       [ 0.09437455,  0.37212265,  0.67106503],\n",
              "       [ 0.0571417 ,  0.2076138 ,  0.29996769]])"
            ]
          },
          "metadata": {},
          "execution_count": 53
        }
      ]
    },
    {
      "cell_type": "code",
      "source": [
        "print(data.shape) # dimensi data"
      ],
      "metadata": {
        "colab": {
          "base_uri": "https://localhost:8080/"
        },
        "id": "bZq3wynALV3l",
        "outputId": "05d9a1f5-b6db-4c70-dae4-a3af1c6a703e"
      },
      "execution_count": null,
      "outputs": [
        {
          "output_type": "stream",
          "name": "stdout",
          "text": [
            "(3, 3)\n"
          ]
        }
      ]
    },
    {
      "cell_type": "code",
      "source": [
        "data = data.reshape((1,1,-1)) # mengubah dimensi\n",
        "data.shape"
      ],
      "metadata": {
        "colab": {
          "base_uri": "https://localhost:8080/"
        },
        "id": "5V1OKDo3Ley0",
        "outputId": "bbd4fda9-a2e7-421f-df3d-8255c693feeb"
      },
      "execution_count": null,
      "outputs": [
        {
          "output_type": "execute_result",
          "data": {
            "text/plain": [
              "(1, 1, 9)"
            ]
          },
          "metadata": {},
          "execution_count": 66
        }
      ]
    },
    {
      "cell_type": "code",
      "source": [
        "# Menambah data\n",
        "zeroes = np.zeros(8)\n",
        "print(zeroes)\n",
        "zeroes = np.append(zeroes, [3,4])\n",
        "print(zeroes)"
      ],
      "metadata": {
        "colab": {
          "base_uri": "https://localhost:8080/"
        },
        "id": "so2Ny94bMQ_X",
        "outputId": "5bebf8da-e21c-4b05-a339-6fa2f5b78ad1"
      },
      "execution_count": null,
      "outputs": [
        {
          "output_type": "stream",
          "name": "stdout",
          "text": [
            "[0. 0. 0. 0. 0. 0. 0. 0.]\n",
            "[0. 0. 0. 0. 0. 0. 0. 0. 3. 4.]\n"
          ]
        }
      ]
    },
    {
      "cell_type": "code",
      "source": [
        "zeroes = np.insert(zeroes,2,1) # var ,indeks, value\n",
        "print(zeroes)"
      ],
      "metadata": {
        "colab": {
          "base_uri": "https://localhost:8080/"
        },
        "id": "15u9ECTxNApo",
        "outputId": "a06e40bf-a7e6-4965-8f16-50b195777dc0"
      },
      "execution_count": null,
      "outputs": [
        {
          "output_type": "stream",
          "name": "stdout",
          "text": [
            "[0. 0. 1. 0. 0. 0. 0. 0. 0. 3. 4.]\n"
          ]
        }
      ]
    },
    {
      "cell_type": "markdown",
      "source": [
        "##Delete"
      ],
      "metadata": {
        "id": "RXzB2CjSCl5S"
      }
    },
    {
      "cell_type": "code",
      "source": [
        "data2 = np.random.rand(3,3,2)\n",
        "data2"
      ],
      "metadata": {
        "colab": {
          "base_uri": "https://localhost:8080/"
        },
        "id": "4RBJEyAZCnXK",
        "outputId": "dbb720b6-0be9-4a32-9412-dc0d91567365"
      },
      "execution_count": null,
      "outputs": [
        {
          "output_type": "execute_result",
          "data": {
            "text/plain": [
              "array([[[0.04108795, 0.59974023],\n",
              "        [0.87421233, 0.24448258],\n",
              "        [0.06148898, 0.44774585]],\n",
              "\n",
              "       [[0.98541712, 0.1325455 ],\n",
              "        [0.15222603, 0.39743091],\n",
              "        [0.30632144, 0.3179814 ]],\n",
              "\n",
              "       [[0.85020946, 0.09304798],\n",
              "        [0.13969281, 0.47211463],\n",
              "        [0.11341554, 0.92003622]]])"
            ]
          },
          "metadata": {},
          "execution_count": 90
        }
      ]
    },
    {
      "cell_type": "code",
      "source": [
        "data2 = np.delete(data2, 0, axis=1)\n",
        "data2"
      ],
      "metadata": {
        "colab": {
          "base_uri": "https://localhost:8080/"
        },
        "id": "sVZa3QODNTfw",
        "outputId": "d44e8ae3-83d0-4979-c0c6-e64dee03159d"
      },
      "execution_count": null,
      "outputs": [
        {
          "output_type": "execute_result",
          "data": {
            "text/plain": [
              "array([[[0.87421233, 0.24448258],\n",
              "        [0.06148898, 0.44774585]],\n",
              "\n",
              "       [[0.15222603, 0.39743091],\n",
              "        [0.30632144, 0.3179814 ]],\n",
              "\n",
              "       [[0.13969281, 0.47211463],\n",
              "        [0.11341554, 0.92003622]]])"
            ]
          },
          "metadata": {},
          "execution_count": 91
        }
      ]
    }
  ]
}